{
 "cells": [
  {
   "cell_type": "code",
   "execution_count": 2,
   "id": "2511a070",
   "metadata": {},
   "outputs": [
    {
     "name": "stdout",
     "output_type": "stream",
     "text": [
      "[12]\n"
     ]
    }
   ],
   "source": [
    "x = [12, 15, 7, 9]\n",
    "\n",
    "def remove_odd(x):\n",
    "    for i in x[:]:\n",
    "        if (i % 2) != 0:\n",
    "            x.remove(i)\n",
    "    return x\n",
    "\n",
    "print(remove_odd(x))"
   ]
  },
  {
   "cell_type": "code",
   "execution_count": 4,
   "id": "13efdc97",
   "metadata": {},
   "outputs": [
    {
     "name": "stdout",
     "output_type": "stream",
     "text": [
      "[15, 7, 9]\n"
     ]
    }
   ],
   "source": [
    "y = [12, 15, 7, 9]\n",
    "\n",
    "def remove_even(x):\n",
    "    for i in x[:]:\n",
    "        if (i % 2) == 0:\n",
    "            x.remove(i)\n",
    "    return x\n",
    "\n",
    "print(remove_even(y))"
   ]
  }
 ],
 "metadata": {
  "kernelspec": {
   "display_name": "Python 3 (ipykernel)",
   "language": "python",
   "name": "python3"
  },
  "language_info": {
   "codemirror_mode": {
    "name": "ipython",
    "version": 3
   },
   "file_extension": ".py",
   "mimetype": "text/x-python",
   "name": "python",
   "nbconvert_exporter": "python",
   "pygments_lexer": "ipython3",
   "version": "3.9.5"
  }
 },
 "nbformat": 4,
 "nbformat_minor": 5
}
