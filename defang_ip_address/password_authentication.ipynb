{
 "cells": [
  {
   "cell_type": "code",
   "execution_count": 3,
   "id": "b46419b0",
   "metadata": {},
   "outputs": [
    {
     "name": "stdout",
     "output_type": "stream",
     "text": [
      "Enter your Username: espino.cesar\n",
      "Enter your Password: ········\n",
      "Enter your Password Again: ········\n",
      "Verified\n"
     ]
    }
   ],
   "source": [
    "import getpass\n",
    "\n",
    "database = {\"cesar.espino\": \"+79992315462\", \"espino.cesar\": \"+79993264879\"}\n",
    "username = input(\"Enter your Username: \")\n",
    "password = getpass.getpass(\"Enter your Password: \")\n",
    "for i in database.keys():\n",
    "    if username == i:\n",
    "        while password != database.get(i):\n",
    "            password = getpass.getpass(\"Enter your Password Again: \")\n",
    "        break\n",
    "\n",
    "print(\"Verified\")"
   ]
  }
 ],
 "metadata": {
  "kernelspec": {
   "display_name": "Python 3 (ipykernel)",
   "language": "python",
   "name": "python3"
  },
  "language_info": {
   "codemirror_mode": {
    "name": "ipython",
    "version": 3
   },
   "file_extension": ".py",
   "mimetype": "text/x-python",
   "name": "python",
   "nbconvert_exporter": "python",
   "pygments_lexer": "ipython3",
   "version": "3.9.5"
  }
 },
 "nbformat": 4,
 "nbformat_minor": 5
}
