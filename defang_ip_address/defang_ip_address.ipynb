{
 "cells": [
  {
   "cell_type": "code",
   "execution_count": 4,
   "id": "e40b64a9",
   "metadata": {},
   "outputs": [
    {
     "name": "stdout",
     "output_type": "stream",
     "text": [
      "1[.]1[.]2[.]3\n"
     ]
    }
   ],
   "source": [
    "def ip_address(address):\n",
    "    new_address = \"\"\n",
    "    split_address = address.split(\".\")\n",
    "    separator = \"[.]\"\n",
    "    new_address = separator.join(split_address)\n",
    "    return new_address\n",
    "\n",
    "ipaddress = ip_address(\"1.1.2.3\")\n",
    "print(ipaddress)"
   ]
  }
 ],
 "metadata": {
  "kernelspec": {
   "display_name": "Python 3 (ipykernel)",
   "language": "python",
   "name": "python3"
  },
  "language_info": {
   "codemirror_mode": {
    "name": "ipython",
    "version": 3
   },
   "file_extension": ".py",
   "mimetype": "text/x-python",
   "name": "python",
   "nbconvert_exporter": "python",
   "pygments_lexer": "ipython3",
   "version": "3.9.5"
  }
 },
 "nbformat": 4,
 "nbformat_minor": 5
}
