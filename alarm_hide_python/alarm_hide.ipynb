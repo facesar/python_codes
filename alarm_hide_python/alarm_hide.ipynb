{
 "cells": [
  {
   "cell_type": "code",
   "execution_count": 1,
   "id": "13dbb453",
   "metadata": {},
   "outputs": [],
   "source": [
    "from tkinter import *\n",
    "\n",
    "class AlarmFrame(Frame):\n",
    "    def repeater(self):\n",
    "        self.bell()\n",
    "        self.after(self.msecs, self.repeater)\n",
    "    def __init__(self, msecs=1000):\n",
    "        Frame.__init__(self)\n",
    "        self.msecs = msecs\n",
    "        self.pack()\n",
    "        stopper = Button(self, text='Stop the beeps!', command=self.quit)\n",
    "        stopper.pack()\n",
    "        stopper.config(bg='red', fg='white', bd=8)\n",
    "        self.stopper = stopper\n",
    "        self.repeater()\n",
    "        \n",
    "class AlarmHide(AlarmFrame):\n",
    "    def repeater(self):\n",
    "        self.bell()\n",
    "        if self.shown:\n",
    "            self.stopper.pack_forget()\n",
    "        else:\n",
    "            self.stopper.pack()\n",
    "        self.shown = not self.shown\n",
    "        self.after(self.msecs, self.repeater)\n",
    "    def __init__(self, msecs=1000):\n",
    "        self.shown = 0\n",
    "        AlarmFrame.__init__(self, msecs)\n",
    "        \n",
    "if __name__ == '__main__':\n",
    "    AlarmHide(msecs=500).mainloop()"
   ]
  }
 ],
 "metadata": {
  "kernelspec": {
   "display_name": "Python 3 (ipykernel)",
   "language": "python",
   "name": "python3"
  },
  "language_info": {
   "codemirror_mode": {
    "name": "ipython",
    "version": 3
   },
   "file_extension": ".py",
   "mimetype": "text/x-python",
   "name": "python",
   "nbconvert_exporter": "python",
   "pygments_lexer": "ipython3",
   "version": "3.9.5"
  }
 },
 "nbformat": 4,
 "nbformat_minor": 5
}
