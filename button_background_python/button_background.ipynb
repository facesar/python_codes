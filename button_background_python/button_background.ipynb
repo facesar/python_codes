{
 "cells": [
  {
   "cell_type": "code",
   "execution_count": null,
   "id": "6d2f682e",
   "metadata": {},
   "outputs": [],
   "source": [
    "from Tkinter import *\n",
    "\n",
    "class Java2sButton(Frame):\n",
    "    def __init__(self):              \n",
    "        Frame.__init__(self)\n",
    "        self.pack()\n",
    "        stopper = Button(self, text='i know you', command=self.quit)\n",
    "        stopper.pack()\n",
    "        stopper.config(bg='yellow', fg='blue', bd=8) \n",
    "\n",
    "if __name__ == '__main__': \n",
    "    Java2sButton().mainloop()"
   ]
  }
 ],
 "metadata": {
  "kernelspec": {
   "display_name": "Python 3 (ipykernel)",
   "language": "python",
   "name": "python3"
  },
  "language_info": {
   "codemirror_mode": {
    "name": "ipython",
    "version": 3
   },
   "file_extension": ".py",
   "mimetype": "text/x-python",
   "name": "python",
   "nbconvert_exporter": "python",
   "pygments_lexer": "ipython3",
   "version": "3.9.5"
  }
 },
 "nbformat": 4,
 "nbformat_minor": 5
}
